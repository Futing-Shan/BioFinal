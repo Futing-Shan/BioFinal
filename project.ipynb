{
 "cells": [
  {
   "cell_type": "code",
   "execution_count": 1,
   "id": "da138b81",
   "metadata": {},
   "outputs": [],
   "source": [
    "from PIL import Image\n",
    "import numpy as np\n",
    "import torch\n",
    "from torch.autograd import Variable\n",
    "import torch.nn as nn\n",
    "import torch.nn.functional as F\n",
    "import matplotlib.pyplot as plt"
   ]
  },
  {
   "cell_type": "code",
   "execution_count": 2,
   "id": "3d22e6a8",
   "metadata": {},
   "outputs": [],
   "source": [
    "# 训练集size：[5148, 256, 256] label size: [5148]\n",
    "# 测试集size：[1292, 256, 256] label size: [1292]\n",
    "# label covid: 0, normal: 1, pneumonia: 2"
   ]
  },
  {
   "cell_type": "code",
   "execution_count": 3,
   "id": "4b2c353f",
   "metadata": {},
   "outputs": [],
   "source": [
    "# 图像预处理\n",
    "# 将图像修改为统一的尺寸（256 * 256）\n",
    "# 将图像转为灰度图像（值为0-255的二维矩阵）\n",
    "train_input = []\n",
    "train_label = []\n",
    "train_img_dir = './Data/train/'\n",
    "\n",
    "# N = 10\n",
    "# M = 10\n",
    "# #形成NxM大小的画布\n",
    "# fig = plt.figure(figsize=(20,20))\n",
    "# st = fig.suptitle(\"COVID19 X-ray Image\", fontsize=\"x-large\")\n",
    "for i in range(460):\n",
    "    train_covid_img_path = train_img_dir + 'COVID19/COVID19(' + str(i) +  ').jpg'\n",
    "    train_covid_img = Image.open(train_covid_img_path)\n",
    "    train_covid_img_resize = train_covid_img.resize((128, 128))\n",
    "    train_covid_img_resize = train_covid_img_resize.convert(\"L\")\n",
    "    train_input.append(np.asarray(train_covid_img_resize) / 255)\n",
    "    train_label.append(0)\n",
    "    \n",
    "#     img = plt.imread(train_covid_img_path)\n",
    "#     plt.subplot(N,M,i+1)#表示第i张图片，下标只能从1开始，不能从0，\n",
    "#     subplot_title=(\"Image:\"+str(i + 1))\n",
    "#     plt.title(subplot_title)\n",
    "#     plt.imshow(img,cmap=\"gray\") #下面两行是消除每张图片自己单独的横纵坐标，不然每张图片会有单独的横纵坐标，影响美观\n",
    "#     plt.xticks([])\n",
    "#     plt.yticks([])\n",
    "# plt.show()\n",
    "\n",
    "# N = 10\n",
    "# M = 10\n",
    "# #形成NxM大小的画布\n",
    "# fig = plt.figure(figsize=(20,20))\n",
    "# st = fig.suptitle(\"Normal X-ray Image\", fontsize=\"x-large\")\n",
    "for i in range(1266):\n",
    "    train_normal_img_path = train_img_dir + 'NORMAL/NORMAL(' + str(i) + ').jpg'\n",
    "    train_normal_img = Image.open(train_normal_img_path)\n",
    "    train_normal_img_resize = train_normal_img.resize((128, 128))\n",
    "    train_normal_img_resize = train_normal_img_resize.convert(\"L\")\n",
    "    train_input.append(np.asarray(train_normal_img_resize) / 255)\n",
    "    train_label.append(1)\n",
    "    \n",
    "#     img = plt.imread(train_normal_img_path)\n",
    "#     plt.subplot(N,M,i+1)#表示第i张图片，下标只能从1开始，不能从0，\n",
    "#     subplot_title=(\"Image:\"+str(i + 1))\n",
    "#     plt.title(subplot_title)\n",
    "#     plt.imshow(img,cmap=\"gray\") #下面两行是消除每张图片自己单独的横纵坐标，不然每张图片会有单独的横纵坐标，影响美观\n",
    "#     plt.xticks([])\n",
    "#     plt.yticks([])\n",
    "# plt.show()\n",
    "\n",
    "\n",
    "# N = 10\n",
    "# M = 10\n",
    "# #形成NxM大小的画布\n",
    "# fig = plt.figure(figsize=(20,20))\n",
    "# st = fig.suptitle(\"Pneumonia X-ray Image\", fontsize=\"x-large\")    \n",
    "for i in range(3418):\n",
    "    train_pneumonia_img_path = train_img_dir + 'PNEUMONIA/PNEUMONIA(' + str(i) + ').jpg'\n",
    "    train_pneumonia_img = Image.open(train_pneumonia_img_path)\n",
    "    train_pneumonia_img_resize = train_pneumonia_img.resize((128, 128))\n",
    "    train_pneumonia_img_resize = train_pneumonia_img_resize.convert(\"L\")\n",
    "    train_input.append(np.asarray(train_pneumonia_img_resize) / 255)\n",
    "    train_label.append(2)\n",
    "    \n",
    "#     img = plt.imread(train_pneumonia_img_path)\n",
    "#     plt.subplot(N,M,i+1)#表示第i张图片，下标只能从1开始，不能从0，\n",
    "#     subplot_title=(\"Image:\"+str(i + 1))\n",
    "#     plt.title(subplot_title)\n",
    "#     plt.imshow(img,cmap=\"gray\") #下面两行是消除每张图片自己单独的横纵坐标，不然每张图片会有单独的横纵坐标，影响美观\n",
    "#     plt.xticks([])\n",
    "#     plt.yticks([])\n",
    "# plt.show()"
   ]
  },
  {
   "cell_type": "code",
   "execution_count": 4,
   "id": "bab319e2",
   "metadata": {},
   "outputs": [
    {
     "data": {
      "text/plain": [
       "(5144, 128, 128)"
      ]
     },
     "execution_count": 4,
     "metadata": {},
     "output_type": "execute_result"
    }
   ],
   "source": [
    "train_input = np.array(train_input)\n",
    "train_input.shape"
   ]
  },
  {
   "cell_type": "code",
   "execution_count": 5,
   "id": "2b5725b0",
   "metadata": {},
   "outputs": [
    {
     "data": {
      "text/plain": [
       "(5144,)"
      ]
     },
     "execution_count": 5,
     "metadata": {},
     "output_type": "execute_result"
    }
   ],
   "source": [
    "train_label = np.array(train_label)\n",
    "train_label.shape"
   ]
  },
  {
   "cell_type": "code",
   "execution_count": 6,
   "id": "9ce7dd9b",
   "metadata": {},
   "outputs": [],
   "source": [
    "test_input = []\n",
    "test_label = []\n",
    "test_img_dir = './Data/test/'\n",
    "\n",
    "for i in range(460, 576):\n",
    "    test_covid_img_path = test_img_dir + 'COVID19/COVID19(' + str(i) +  ').jpg'\n",
    "    test_covid_img = Image.open(test_covid_img_path)\n",
    "    test_covid_img_resize = test_covid_img.resize((128, 128))\n",
    "    test_covid_img_resize = test_covid_img_resize.convert(\"L\")\n",
    "    test_input.append(np.asarray(test_covid_img_resize) / 255)\n",
    "    test_label.append(0)\n",
    "    \n",
    "for i in range(1266, 1583):\n",
    "    test_normal_img_path = test_img_dir + 'NORMAL/NORMAL(' + str(i) + ').jpg'\n",
    "    test_normal_img = Image.open(test_normal_img_path)\n",
    "    test_normal_img_resize = test_normal_img.resize((128, 128))\n",
    "    test_normal_img_resize = test_normal_img_resize.convert(\"L\")\n",
    "    test_input.append(np.asarray(test_normal_img_resize) / 255)\n",
    "    test_label.append(1)\n",
    "    \n",
    "for i in range(3418, 4273):\n",
    "    test_pneumonia_img_path = test_img_dir + 'PNEUMONIA/PNEUMONIA(' + str(i) + ').jpg'\n",
    "    test_pneumonia_img = Image.open(test_pneumonia_img_path)\n",
    "    test_pneumonia_img_resize = test_pneumonia_img.resize((128, 128))\n",
    "    test_pneumonia_img_resize = test_pneumonia_img_resize.convert(\"L\")\n",
    "    test_input.append(np.asarray(test_pneumonia_img_resize) / 255)\n",
    "    test_label.append(2)"
   ]
  },
  {
   "cell_type": "code",
   "execution_count": 7,
   "id": "0f01d0ec",
   "metadata": {},
   "outputs": [
    {
     "data": {
      "text/plain": [
       "(1288, 128, 128)"
      ]
     },
     "execution_count": 7,
     "metadata": {},
     "output_type": "execute_result"
    }
   ],
   "source": [
    "test_input = np.array(test_input)\n",
    "test_input.shape"
   ]
  },
  {
   "cell_type": "code",
   "execution_count": 8,
   "id": "9854b3c5",
   "metadata": {},
   "outputs": [
    {
     "data": {
      "text/plain": [
       "(1288,)"
      ]
     },
     "execution_count": 8,
     "metadata": {},
     "output_type": "execute_result"
    }
   ],
   "source": [
    "test_label = np.array(test_label)\n",
    "test_label.shape"
   ]
  },
  {
   "cell_type": "code",
   "execution_count": 9,
   "id": "858adf03",
   "metadata": {},
   "outputs": [
    {
     "data": {
      "text/plain": [
       "CNN(\n",
       "  (conv1): Conv2d(1, 6, kernel_size=(3, 3), stride=(1, 1), padding=(1, 1))\n",
       "  (conv2): Conv2d(6, 16, kernel_size=(3, 3), stride=(1, 1), padding=(1, 1))\n",
       "  (fc1): Linear(in_features=16384, out_features=120, bias=True)\n",
       "  (fc2): Linear(in_features=120, out_features=60, bias=True)\n",
       "  (fc3): Linear(in_features=60, out_features=3, bias=True)\n",
       ")"
      ]
     },
     "execution_count": 9,
     "metadata": {},
     "output_type": "execute_result"
    }
   ],
   "source": [
    "# 搭建CNN神经网络\n",
    "# torch.nn.Conv2d\n",
    "# https://pytorch.org/docs/stable/generated/torch.nn.Conv2d.html#torch.nn.Conv2d\n",
    "\n",
    "class CNN(nn.Module):\n",
    "    def __init__(self):\n",
    "        super(CNN,self).__init__()\n",
    "        \n",
    "        # 1 input image channel ,6 output channels,3x3 square convolution kernel\n",
    "        self.conv1=nn.Conv2d(in_channels=1,out_channels=6,kernel_size=3,padding=1)\n",
    "        \n",
    "        # 6 input channl,16 output channels,3x3 square convolution kernel\n",
    "        self.conv2=nn.Conv2d(in_channels=6,out_channels=16,kernel_size=3, padding=1)\n",
    "        \n",
    "        # an affine operation:y=Wx+b\n",
    "#         self.fc1=nn.Linear(16*1*1,3)\n",
    "        self.fc1=nn.Linear(16*32*32,120)\n",
    "        self.fc2=nn.Linear(120,60)\n",
    "        self.fc3=nn.Linear(60,3)\n",
    "\n",
    "    def forward(self,x):\n",
    "        # x是网络的输入，然后将x前向传播，最后得到输出\n",
    "        # 下面两句定义了两个2x2的池化层\n",
    "        x=F.max_pool2d(F.relu(self.conv1(x)),(2,2))\n",
    "        # if the size is square you can only specify a single number\n",
    "        x=F.max_pool2d(F.relu(self.conv2(x)),2)\n",
    "        x=x.view(-1,self.num_flat_features(x))\n",
    "        x=F.relu(self.fc1(x))\n",
    "#         x=F.relu(self.fc2(x))\n",
    "#         x=self.fc3(x)\n",
    "        return x\n",
    "    \n",
    "    def num_flat_features(self,x):\n",
    "        size=x.size()[1:] # all dimensions except the batch dimension\n",
    "        num_features=1\n",
    "        for s in size:\n",
    "            num_features*=s\n",
    "        return num_features\n",
    "cnn=CNN().float()\n",
    "cnn"
   ]
  },
  {
   "cell_type": "code",
   "execution_count": 10,
   "id": "3e2c2658",
   "metadata": {},
   "outputs": [
    {
     "name": "stdout",
     "output_type": "stream",
     "text": [
      "[0/200] Training Loss: 4.7986\n",
      "[10/200] Training Loss: 0.7968\n",
      "[20/200] Training Loss: 0.4837\n",
      "[30/200] Training Loss: 0.3296\n",
      "[40/200] Training Loss: 0.2661\n",
      "[50/200] Training Loss: 0.2299\n",
      "[60/200] Training Loss: 0.2063\n",
      "[70/200] Training Loss: 0.1886\n",
      "[80/200] Training Loss: 0.1765\n",
      "[90/200] Training Loss: 0.1605\n",
      "[100/200] Training Loss: 0.1596\n",
      "[110/200] Training Loss: 0.1474\n",
      "[120/200] Training Loss: 0.1392\n",
      "[130/200] Training Loss: 0.1341\n",
      "[140/200] Training Loss: 0.1298\n",
      "[150/200] Training Loss: 0.1252\n",
      "[160/200] Training Loss: 0.1221\n",
      "[170/200] Training Loss: 0.1236\n",
      "[180/200] Training Loss: 0.1166\n",
      "[190/200] Training Loss: 0.1130\n",
      "[199/200] Training Loss: 0.1092\n"
     ]
    }
   ],
   "source": [
    "# 训练CNN模型\n",
    "device = torch.device('mps')\n",
    "\n",
    "cnn = cnn.to(device)\n",
    "\n",
    "cnn_train_input = train_input.reshape(train_input.shape[0], 1, train_input.shape[1], train_input.shape[2])\n",
    "cnn_train_input = np.float32(cnn_train_input)\n",
    "cnn_train_input  = torch.from_numpy(cnn_train_input)\n",
    "\n",
    "cnn_train_label = train_label.astype(int);\n",
    "cnn_train_label = torch.from_numpy(cnn_train_label)\n",
    "\n",
    "learning_rate = 0.001\n",
    "optimizer = torch.optim.Adam(cnn.parameters(), lr=learning_rate)\n",
    "criterion = nn.CrossEntropyLoss()\n",
    "cnn_training_epochs = 200\n",
    "\n",
    "train_loss_arr = []\n",
    "# val_loss_arr = []\n",
    "for epoch in range(cnn_training_epochs):\n",
    "#     print(1)\n",
    "    cnn.train()\n",
    "    \n",
    "    cnn_train_input = cnn_train_input.to(device)\n",
    "    cnn_train_label = cnn_train_label.to(device)\n",
    "    \n",
    "    cnn_train_inputv = Variable(cnn_train_input)\n",
    "    cnn_train_labelv = Variable(cnn_train_label)\n",
    "    cnn_train_labelv = cnn_train_labelv.long()\n",
    "    \n",
    "    optimizer.zero_grad()\n",
    "    \n",
    "    output_train = cnn(cnn_train_inputv)\n",
    "    \n",
    "    loss = criterion(output_train, cnn_train_labelv)\n",
    "    train_loss_arr.append(loss.item())\n",
    "    \n",
    "    loss.backward()\n",
    "    \n",
    "#     cnn_val_inputv = Variable(cnn_val_input)\n",
    "#     cnn_val_labelv = Variable(cnn_val_label)\n",
    "#     cnn_val_labelv = cnn_val_labelv.long()\n",
    "    \n",
    "#     output_val = cnn_model(cnn_val_inputv)\n",
    "    \n",
    "#     loss_val = criterion(output_val, cnn_val_labelv)\n",
    "#     val_loss_arr.append(loss_val.item())\n",
    "    \n",
    "    optimizer.step()\n",
    "    \n",
    "    if epoch % 10 == 0 or epoch == cnn_training_epochs - 1:\n",
    "        print(\"[%d/%d] Training Loss: %.4f\" % (epoch, cnn_training_epochs, loss.item()))\n",
    "#         print(\"[%d/%d] Validation Loss: %.4f\" % (epoch, cnn_training_epochs, loss_val.item()))\n",
    "# test\n",
    "# test2 "
   ]
  },
  {
   "cell_type": "code",
   "execution_count": 11,
   "id": "0405e16c",
   "metadata": {},
   "outputs": [
    {
     "data": {
      "text/plain": [
       "<module 'matplotlib.pyplot' from '/Users/hejianan/opt/anaconda3/envs/torch_nightly_env/lib/python3.8/site-packages/matplotlib/pyplot.py'>"
      ]
     },
     "execution_count": 11,
     "metadata": {},
     "output_type": "execute_result"
    },
    {
     "data": {
      "image/png": "[encoded data removed]",
      "text/plain": [
       "<Figure size 640x480 with 1 Axes>"
      ]
     },
     "metadata": {},
     "output_type": "display_data"
    }
   ],
   "source": [
    "plt.figure(figsize=[8,6], dpi=80)\n",
    "plt.plot(np.array(train_loss_arr), 'red', label = 'training')\n",
    "# plt.plot(np.array(val_loss_arr), 'blue', label = 'valdation')\n",
    "plt.xlabel(\"epoch\")\n",
    "plt.ylabel(\"loss\")\n",
    "plt.legend()\n",
    "plt"
   ]
  },
  {
   "cell_type": "code",
   "execution_count": 13,
   "id": "8e8dea8d",
   "metadata": {},
   "outputs": [
    {
     "data": {
      "text/plain": [
       "0.9541925465838509"
      ]
     },
     "execution_count": 13,
     "metadata": {},
     "output_type": "execute_result"
    }
   ],
   "source": [
    "# 测试CNN模型准确率\n",
    "cnn_test_input = test_input.reshape(test_input.shape[0], 1, test_input.shape[1], test_input.shape[2])\n",
    "cnn_test_input = np.float32(cnn_test_input)\n",
    "cnn_test_input  = torch.from_numpy(cnn_test_input).to(device)\n",
    "\n",
    "cnn_test_label = test_label.astype(int);\n",
    "cnn_test_label = torch.from_numpy(cnn_test_label).to(device)\n",
    "\n",
    "with torch.no_grad():\n",
    "    output = cnn(cnn_test_input)\n",
    "softmax = torch.exp(output)\n",
    "_, prediction = torch.max(softmax, axis=1)\n",
    "\n",
    "correct_num = 0;\n",
    "for i in range(prediction.shape[0]):\n",
    "    if (prediction[i] == cnn_test_label[i]):\n",
    "        correct_num = correct_num + 1\n",
    "correct_num / prediction.shape[0]"
   ]
  },
  {
   "cell_type": "code",
   "execution_count": null,
   "id": "858aefa0",
   "metadata": {},
   "outputs": [],
   "source": []
  },
  {
   "cell_type": "code",
   "execution_count": null,
   "id": "2c1ed7f3",
   "metadata": {},
   "outputs": [],
   "source": []
  }
 ],
 "metadata": {
  "kernelspec": {
   "display_name": "Python [conda env:torch_nightly_env] *",
   "language": "python",
   "name": "conda-env-torch_nightly_env-py"
  },
  "language_info": {
   "codemirror_mode": {
    "name": "ipython",
    "version": 3
   },
   "file_extension": ".py",
   "mimetype": "text/x-python",
   "name": "python",
   "nbconvert_exporter": "python",
   "pygments_lexer": "ipython3",
   "version": "3.8.15"
  }
 },
 "nbformat": 4,
 "nbformat_minor": 5
}
